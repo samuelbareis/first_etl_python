{
 "cells": [
  {
   "cell_type": "code",
   "execution_count": 7,
   "id": "af91211f",
   "metadata": {
    "scrolled": false
   },
   "outputs": [
    {
     "ename": "AttributeError",
     "evalue": "'NoneType' object has no attribute 'add_worksheet'",
     "output_type": "error",
     "traceback": [
      "\u001b[1;31m---------------------------------------------------------------------------\u001b[0m",
      "\u001b[1;31mAttributeError\u001b[0m                            Traceback (most recent call last)",
      "Input \u001b[1;32mIn [7]\u001b[0m, in \u001b[0;36m<cell line: 3>\u001b[1;34m()\u001b[0m\n\u001b[0;32m     23\u001b[0m municipio \u001b[38;5;241m=\u001b[39m linha[\u001b[38;5;241m0\u001b[39m] \n\u001b[0;32m     24\u001b[0m \u001b[38;5;66;03m#workbook = xlsxwriter.Workbook(f'arquivos/{municipio}.xlsx') \u001b[39;00m\n\u001b[1;32m---> 25\u001b[0m worksheet \u001b[38;5;241m=\u001b[39m \u001b[43mworkbook\u001b[49m\u001b[38;5;241;43m.\u001b[39;49m\u001b[43madd_worksheet\u001b[49m(municipio)\n\u001b[0;32m     26\u001b[0m worksheet\u001b[38;5;241m.\u001b[39mwrite(\u001b[38;5;241m0\u001b[39m, \u001b[38;5;241m0\u001b[39m, \u001b[38;5;124m'\u001b[39m\u001b[38;5;124mMunicipio\u001b[39m\u001b[38;5;124m'\u001b[39m) \n\u001b[0;32m     27\u001b[0m worksheet\u001b[38;5;241m.\u001b[39mwrite(\u001b[38;5;124m'\u001b[39m\u001b[38;5;124mB1\u001b[39m\u001b[38;5;124m'\u001b[39m, \u001b[38;5;124m'\u001b[39m\u001b[38;5;124mPrimeira_Dose\u001b[39m\u001b[38;5;124m'\u001b[39m) \n",
      "\u001b[1;31mAttributeError\u001b[0m: 'NoneType' object has no attribute 'add_worksheet'"
     ]
    }
   ],
   "source": [
    "import csv\n",
    "import xlsxwriter\n",
    "with open('cnes_municipios.csv', 'r', encoding='utf-8') as ficheiro:\n",
    "    reader = csv.reader(ficheiro, delimiter=',')\n",
    "    next(reader, None)\n",
    "    municipio = None\n",
    "    row = 0    \n",
    "    workbook = None\n",
    "    worksheet = None\n",
    "    for linha in reader:\n",
    "        if municipio == linha[0]:\n",
    "            row += 1\n",
    "            column = 0\n",
    "            for item in linha:\n",
    "                worksheet.write(row, column, item)\n",
    "                print(row, column, item)\n",
    "                column += 1\n",
    "            print('-')\n",
    "        else:            \n",
    "            if workbook != None:\n",
    "                workbook.close()\n",
    "                print('arquivo fechado')\n",
    "            municipio = linha[0] \n",
    "            workbook = xlsxwriter.Workbook(f'arquivos/{municipio}.xlsx') \n",
    "            worksheet = workbook.add_worksheet(municipio)\n",
    "            worksheet.write(0, 0, 'Municipio') \n",
    "            worksheet.write('B1', 'Primeira_Dose') \n",
    "            worksheet.write('C1', 'Segunda_Dose') \n",
    "            worksheet.write('D1', 'Dose_Adicional')\n",
    "            worksheet.write('E1', 'Reforco_Um')\n",
    "            worksheet.write('F1', 'Reforco_Dois')\n",
    "            worksheet.write('G1', 'Estabelecimento_Vacinador')\n",
    "            worksheet.write('H1', 'CNES')\n",
    "            column = 0\n",
    "            row = 1\n",
    "            for item in linha:\n",
    "                worksheet.write(row, column, item)\n",
    "                column += 1\n",
    "            print(f'Novo municipio: {municipio} -')"
   ]
  },
  {
   "cell_type": "code",
   "execution_count": null,
   "id": "f981b2a6",
   "metadata": {},
   "outputs": [],
   "source": []
  },
  {
   "cell_type": "code",
   "execution_count": null,
   "id": "9ac114dd",
   "metadata": {},
   "outputs": [],
   "source": []
  }
 ],
 "metadata": {
  "kernelspec": {
   "display_name": "Python 3 (ipykernel)",
   "language": "python",
   "name": "python3"
  },
  "language_info": {
   "codemirror_mode": {
    "name": "ipython",
    "version": 3
   },
   "file_extension": ".py",
   "mimetype": "text/x-python",
   "name": "python",
   "nbconvert_exporter": "python",
   "pygments_lexer": "ipython3",
   "version": "3.9.12"
  }
 },
 "nbformat": 4,
 "nbformat_minor": 5
}
